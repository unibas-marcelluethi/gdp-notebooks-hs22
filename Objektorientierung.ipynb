{
 "cells": [
  {
   "cell_type": "markdown",
   "id": "02395950",
   "metadata": {},
   "source": [
    "# Objektorientierung\n",
    "\n",
    "#### Marcel Lüthi, Departement Mathematik und Informatik, Universität Basel"
   ]
  },
  {
   "cell_type": "markdown",
   "id": "f9344759",
   "metadata": {},
   "source": [
    "Dieses Arbeitsblatt besteht aus zwei Teilen. Im ersten Teil werden wir sehen, wie uns eigene Datentypen helfen ein Vokabular aufzubauen, mit der wir unsere Berechnungen strukturieren und beschreiben können. \n",
    "Im zweiten Teil werden wir eine Implementation eines Array Datentyps schreiben, der dynamisch wachsen kann. Dieses Beispiel zeigt, wie wir mit Klassen Java um eigene, nützliche Datentypen erweitern können. "
   ]
  },
  {
   "cell_type": "markdown",
   "id": "c51098e8",
   "metadata": {},
   "source": [
    "### Teil 1: Konzepte aus der Geometrie"
   ]
  },
  {
   "cell_type": "markdown",
   "id": "89bb72d0",
   "metadata": {},
   "source": [
    "Das Ziel dieser ersten Aufgabe ist es, Polygone repräsentieren. Polygone sind geschlossene Vielecke, die durch eine Folge von Punkten definiert ist. Beispiele von Polygonen sind Dreiecke, Vierecke, 6-Ecke, etc. Wir wollen das Polygon auch um einen angegebenen Vektor verschieben können. \n",
    "\n",
    "#### Miniübung\n",
    "\n",
    "* Welche Klassen würden Sie definieren um das Problem zu strukturieren?\n",
    "* Welche Methoden sollen auf diesen Klassen definiert sein?\n",
    "* Implementieren Sie diese Klassen. "
   ]
  },
  {
   "cell_type": "code",
   "execution_count": 21,
   "id": "edfa59a1",
   "metadata": {},
   "outputs": [],
   "source": [
    "// Hier können Sie Ihre Klassen implementieren"
   ]
  },
  {
   "cell_type": "code",
   "execution_count": 8,
   "id": "c14476cb",
   "metadata": {},
   "outputs": [],
   "source": []
  },
  {
   "cell_type": "markdown",
   "id": "a9084515",
   "metadata": {},
   "source": [
    "Wir schreiben eine Klasse `PolygonApp`, die eine Main-Methode enthält, um unsere Konzepte zu testen. "
   ]
  },
  {
   "cell_type": "code",
   "execution_count": 24,
   "id": "4b0c48de",
   "metadata": {},
   "outputs": [],
   "source": [
    "class PolygonApp {\n",
    "\n",
    "\n",
    "    public static void main(String[] args) {\n",
    "\n",
    "    }\n",
    "}\n",
    "\n",
    "PolygonApp.main(new String[0]);"
   ]
  },
  {
   "cell_type": "markdown",
   "id": "93c9de82",
   "metadata": {},
   "source": [
    "#### Miniübung\n",
    "\n",
    "* Erzeugen Sie ein Polygon und verschieben Sie dieses um einen gewissen Verschiebevektor. \n",
    "* Können Sie die Punkte im Polygon ausgeben? Ergänzen Sie die Klasse um eine print-Methode. "
   ]
  },
  {
   "cell_type": "markdown",
   "id": "2139cf3d",
   "metadata": {},
   "source": [
    "### Teil 2: ArrayList"
   ]
  },
  {
   "cell_type": "markdown",
   "id": "608c5167",
   "metadata": {},
   "source": [
    "Die Array-Klasse in Java hat grosse Limitierungen:\n",
    "\n",
    "* Die Grösse des Arrays ist fix. \n",
    "* Das Array kann nicht einfach ausgegeben werden. \n",
    "* Vergleiche von Arrays sind schwierig. \n",
    "\n",
    "In dieser Aufgabe werden wir eine eigene Klasse `ArrayList` schreiben, die diese Probleme behebt. \n",
    "\n",
    "#### Miniübung\n",
    "* Die untenstehende Klasse definiert die benötigten Methoden. \n",
    "* Implementieren Sie die fehlenden Methoden"
   ]
  },
  {
   "cell_type": "code",
   "execution_count": 27,
   "id": "8dcbd621",
   "metadata": {},
   "outputs": [],
   "source": [
    "class ArrayList {\n",
    "    \n",
    "    // Hält die Daten \n",
    "    double[] data;\n",
    "    \n",
    "    // Die Anzahl der in der ArrayList gespeicherten Elemente\n",
    "    int size = 0;\n",
    "    \n",
    "    // Erzeugt eine ArrayList mit gegebener Kapazität\n",
    "    public ArrayList(int capacity) {\n",
    "        this.data = new double[capacity];\n",
    "        this.size = capacity;\n",
    "    }\n",
    "    \n",
    "    // Erzeugt eine ArrayList mit n Elementen, die alle auf den in element gegebene\n",
    "    // Wert gesetzt wird. \n",
    "    public static ArrayList fill(int n, double element) {\n",
    "       // Ihre Lösung\n",
    "        return null;\n",
    "        \n",
    "    }\n",
    "    \n",
    "    // Setzt das Element an der Stelle index\n",
    "    public void set(int index, double element) {\n",
    "        // Ihre Lösung\n",
    "    }\n",
    "    \n",
    "    // Fügt ein neues Element am Ende der Liste an. Wenn die Liste nicht gross\n",
    "    // genug ist, wird die Liste vergrössert\n",
    "    public void append(double element) {\n",
    "        if (size >= data.length) {\n",
    "            resize(2 * data.length);\n",
    "        }\n",
    "        data[size] = element;\n",
    "        size += 1;\n",
    "    }\n",
    "    \n",
    "    // Gibt die Liste aus\n",
    "    public void print() { \n",
    "        if (size == 0) {\n",
    "            System.out.println(\"[]\");\n",
    "        } else {\n",
    "            System.out.print(\"[\");\n",
    "            for (int i = 0; i < size -1 ; i = i + 1) {\n",
    "                System.out.print(data[i] + \", \"); \n",
    "            }\n",
    "            System.out.print(data[size - 1]);\n",
    "            System.out.println(\"]\");\n",
    "        }\n",
    "    }\n",
    "    \n",
    "    // Vergleicht dieses Array mit dem übergebenen Array other\n",
    "    public boolean equals(ArrayList other) {\n",
    "        if (other.size != this.size) { \n",
    "            return false;\n",
    "        }\n",
    "        for (int i = 0; i < size; i = i + 1) {\n",
    "            if (this.data[i] != other.data[i]) {\n",
    "                return false;\n",
    "            }\n",
    "        }\n",
    "        \n",
    "        return true;\n",
    "        \n",
    "    }\n",
    "    \n",
    "    // Verändert die Grösse des Arrays. Die im array gespeicherten \n",
    "    // Elemente bleiben erhalten. \n",
    "    void resize(int numberOfElements) {\n",
    "      // Ihre Lösung\n",
    "    }\n",
    "}"
   ]
  },
  {
   "cell_type": "markdown",
   "id": "cd61149b",
   "metadata": {},
   "source": [
    "Die Klasse `ArrayListTests` wird verwendet um unsere Klasse `ArrayList` zu testen. "
   ]
  },
  {
   "cell_type": "code",
   "execution_count": 23,
   "id": "d6010a62",
   "metadata": {},
   "outputs": [
    {
     "name": "stdout",
     "output_type": "stream",
     "text": [
      "[0.0, 0.0, 0.0, 99.0, 0.0, 0.0, 0.0, 0.0, 0.0, 0.0, 7.0]\n"
     ]
    }
   ],
   "source": [
    "class ArrayListTests {\n",
    "    public static void main(String[] args) {\n",
    "        ArrayList a = ArrayList.fill(10, 0);\n",
    "        a.append(7);\n",
    "        a.set(3, 99);\n",
    "        a.print();\n",
    "    }\n",
    "}\n",
    "ArrayListTests.main(new String[0]);"
   ]
  },
  {
   "cell_type": "code",
   "execution_count": null,
   "id": "7b81d001",
   "metadata": {},
   "outputs": [],
   "source": []
  },
  {
   "cell_type": "code",
   "execution_count": null,
   "id": "160f5578",
   "metadata": {},
   "outputs": [],
   "source": []
  }
 ],
 "metadata": {
  "kernelspec": {
   "display_name": "Java",
   "language": "java",
   "name": "java"
  },
  "language_info": {
   "codemirror_mode": "java",
   "file_extension": ".jshell",
   "mimetype": "text/x-java-source",
   "name": "Java",
   "pygments_lexer": "java",
   "version": "18.0.1+10"
  }
 },
 "nbformat": 4,
 "nbformat_minor": 5
}
