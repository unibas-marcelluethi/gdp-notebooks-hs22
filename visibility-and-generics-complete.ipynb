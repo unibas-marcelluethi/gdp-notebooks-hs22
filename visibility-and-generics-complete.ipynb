{
 "cells": [
  {
   "cell_type": "markdown",
   "id": "02395950",
   "metadata": {},
   "source": [
    "# Sichtbarkeitsmodifikatoren und Generische Programmierung\n",
    "\n",
    "#### Marcel Lüthi, Departement Mathematik und Informatik, Universität Basel"
   ]
  },
  {
   "cell_type": "markdown",
   "id": "e814204c",
   "metadata": {},
   "source": [
    "In diesem Arbeitsblatt arbeiten wir mit unserer Listenklasse weiter. Wir setzten passende Zugriffsmodifikatoren und diskutieren, warum wir gewisse Teile vom Code vor Zugriff schützen wollen. \n",
    "\n",
    "Danach führen wir Generics ein und passen die Listenklasse entsprechend an. "
   ]
  },
  {
   "cell_type": "markdown",
   "id": "ea85a956",
   "metadata": {},
   "source": [
    "### Teil 1: Zugriffsmodifikatoren"
   ]
  },
  {
   "cell_type": "markdown",
   "id": "aa8f3923",
   "metadata": {},
   "source": [
    "##### Übung\n",
    "\n",
    "* Sie finden nachstehend den vollständigen Code für unsere LinkedList Implementation. Setzten Sie vor Jedes Interface, jede Klasse und jede Methode ein passendes Sichtbarkeitsattribut (oder lassen Sie es weg, falls die default-Sichtbarkeit die richtige Wahl ist). "
   ]
  },
  {
   "cell_type": "code",
   "execution_count": 2,
   "id": "0e560019",
   "metadata": {},
   "outputs": [],
   "source": [
    "public interface List {\n",
    "    \n",
    "    /**\n",
    "      * Appends an element to the end of the list\n",
    "      */\n",
    "    public void add(double element);\n",
    "    \n",
    "    /**\n",
    "      * returns the number of elements in the list\n",
    "      */\n",
    "    public int size();\n",
    "    \n",
    "    /**\n",
    "      * gets the element at position i\n",
    "      */\n",
    "    public double get(int index);\n",
    "    \n",
    "    /**\n",
    "      * sets the element at position i\n",
    "      */\n",
    "    public void set(int index, double element);\n",
    "    \n",
    "    /**\n",
    "      * Returns an array representation of the given list;\n",
    "      */\n",
    "    public double[] toArray();\n",
    "    \n",
    "}"
   ]
  },
  {
   "cell_type": "code",
   "execution_count": 5,
   "id": "466ac4e4",
   "metadata": {},
   "outputs": [],
   "source": [
    "class Node {\n",
    "    double value;\n",
    "    Node next;\n",
    "    \n",
    "    Node(double value) {\n",
    "        this.value = value;\n",
    "        this.next = null;\n",
    "    }\n",
    "}"
   ]
  },
  {
   "cell_type": "code",
   "execution_count": 6,
   "id": "8dcbd621",
   "metadata": {},
   "outputs": [],
   "source": [
    "\n",
    "\n",
    "public class LinkedList implements List {\n",
    "    \n",
    "    private Node first;\n",
    "    private Node last;\n",
    "    \n",
    "    private int size;\n",
    "    \n",
    "    // Erzeugt eine ArrayList mit gegebener Kapazität\n",
    "    public LinkedList() {\n",
    "        this.first = null;\n",
    "        this.last = null;\n",
    "        this.size = 0;\n",
    "    }\n",
    "    \n",
    "    \n",
    "    // Fügt ein neues Element am Ende der Liste an. \n",
    "    public void add(double element) {\n",
    "        Node newNode = new Node(element);\n",
    "        if (first == null) {\n",
    "            first = newNode;\n",
    "            last = newNode;\n",
    "        } else {\n",
    "            last.next = newNode;\n",
    "            last = newNode;\n",
    "        }        \n",
    "        size = size + 1;\n",
    "    }\n",
    "    \n",
    "    public int size() { \n",
    "        return size;\n",
    "    }\n",
    "    \n",
    "\n",
    "    \n",
    "    public double[] toArray() {\n",
    "        double[] array = new double[size];\n",
    "        \n",
    "        Node current = first;\n",
    "        for (int i = 0; i < size; i = i + 1) {\n",
    "            array[i] = current.value;\n",
    "            current = current.next;\n",
    "        }\n",
    "        \n",
    "        return array;\n",
    "    }\n",
    "\n",
    "    public double get(int index) {\n",
    "        Node curr = first;\n",
    "        for (int i = 0; i < index; i = i + 1) {\n",
    "            curr = curr.next;\n",
    "        }\n",
    "        return curr.value;\n",
    "        \n",
    "    }\n",
    "\n",
    "    public void set(int index, double element) {\n",
    "        Node curr = first;\n",
    "        for (int i = 0; i < index; i = i + 1) {\n",
    "            curr = curr.next;\n",
    "        }\n",
    "        curr.value = element;\n",
    "        \n",
    "    }\n",
    "\n",
    "    \n",
    "        \n",
    "    // Gibt die Liste aus\n",
    "    @Override\n",
    "    public String toString() { \n",
    "        if (first == null) {\n",
    "            return \"[]\";\n",
    "        } else {\n",
    "            StringBuffer sb = new StringBuffer();\n",
    "            sb.append(\"[\");\n",
    "            for (Node current = first; current != last; current = current.next) {\n",
    "                sb.append(current.value);\n",
    "                sb.append(\",\");\n",
    "            }\n",
    "            sb.append(last.value);\n",
    "            sb.append(\"]\");\n",
    "            return sb.toString();\n",
    "        }\n",
    "    }\n",
    "\n",
    "\n",
    "    @Override\n",
    "    public boolean equals(Object other) {\n",
    "        if (!(other instanceof LinkedList)) {\n",
    "            return false;\n",
    "        }\n",
    "        LinkedList otherLL = (LinkedList) other;\n",
    "        \n",
    "        if (otherLL.size() != this.size()) { \n",
    "            return false;\n",
    "        }\n",
    "\n",
    "        \n",
    "        Node currThis = first;\n",
    "        Node currOther = otherLL.first;\n",
    "\n",
    "        while (currThis != null) {\n",
    "            if (currThis.value != currOther.value) {\n",
    "                return false;\n",
    "            }\n",
    "            currThis = currThis.next;\n",
    "            currOther = currOther.next;\n",
    "        }\n",
    "        return true;\n",
    "        \n",
    "    }\n",
    "    \n",
    "    \n",
    "}"
   ]
  },
  {
   "cell_type": "markdown",
   "id": "1ed280f9",
   "metadata": {},
   "source": [
    "Wir testen unsere Implementation, indem wir die bereits implementierten Funktionen `ListTools.addNumbersInRange` und `ListTools.computeAverageValue` nutzen. "
   ]
  },
  {
   "cell_type": "markdown",
   "id": "a79d023f",
   "metadata": {},
   "source": [
    "### Teil 2: Eine flexiblere Listenklasse"
   ]
  },
  {
   "cell_type": "markdown",
   "id": "bbe16e5c",
   "metadata": {},
   "source": [
    "In obiger Implementation können wir in der Liste nur Elemente vom Typ `double` nutzen. \n",
    "\n",
    "#### Diskussion\n",
    "\n",
    "* Wie gehen wir vor, wenn wir nun auch eine Liste mit Elementen vom Typ `String` möchten? Kennen Sie eine bessere Methode als den Code zu kopieren und anzupassen? (Hinweis: Alle Klassen in Java sind hierarchisch angeordnet)?"
   ]
  },
  {
   "cell_type": "markdown",
   "id": "0dc504a0",
   "metadata": {},
   "source": [
    "#### Mögliche Implementation"
   ]
  },
  {
   "cell_type": "markdown",
   "id": "fbc8484b",
   "metadata": {},
   "source": [
    "Eine mögliche Implementation nutzt die Java Klassenhierarchie aus. Wir ersetzen einfach den konkreten Typ `double` mit `Object`. "
   ]
  },
  {
   "cell_type": "code",
   "execution_count": 25,
   "id": "4eda6bb6",
   "metadata": {},
   "outputs": [],
   "source": [
    "public interface List {\n",
    "    \n",
    "    /**\n",
    "      * Appends an element to the end of the list\n",
    "      */\n",
    "    public void add(Object element);\n",
    "    \n",
    "    /**\n",
    "      * returns the number of elements in the list\n",
    "      */\n",
    "    public int size();\n",
    "    \n",
    "    /**\n",
    "      * gets the element at position i\n",
    "      */\n",
    "    public Object get(int index);    \n",
    "}"
   ]
  },
  {
   "cell_type": "code",
   "execution_count": 26,
   "id": "d877b145",
   "metadata": {},
   "outputs": [],
   "source": [
    "class Node {\n",
    "    Object value;\n",
    "    Node next;\n",
    "    \n",
    "    Node(Object value) {\n",
    "        this.value = value;\n",
    "        this.next = null;\n",
    "    }\n",
    "}"
   ]
  },
  {
   "cell_type": "code",
   "execution_count": 27,
   "id": "f3b2204b",
   "metadata": {},
   "outputs": [],
   "source": [
    "public class LinkedList implements List {\n",
    "    \n",
    "    private Node first;\n",
    "    private Node last;\n",
    "    \n",
    "    private int size;\n",
    "    \n",
    "    // Erzeugt eine ArrayList mit gegebener Kapazität\n",
    "    public LinkedList() {\n",
    "        this.first = null;\n",
    "        this.last = null;\n",
    "        this.size = 0;\n",
    "    }\n",
    "    \n",
    "    \n",
    "    // Fügt ein neues Element am Ende der Liste an. \n",
    "    public void add(Object element) {\n",
    "        Node newNode = new Node(element);\n",
    "        if (first == null) {\n",
    "            first = newNode;\n",
    "            last = newNode;\n",
    "        } else {\n",
    "            last.next = newNode;\n",
    "            last = newNode;\n",
    "        }        \n",
    "        size = size + 1;\n",
    "    }\n",
    "    \n",
    "    public int size() { \n",
    "        return size;\n",
    "    }\n",
    "    \n",
    "\n",
    "\n",
    "    public Object get(int index) {\n",
    "        Node curr = first;\n",
    "        for (int i = 0; i < index; i = i + 1) {\n",
    "            curr = curr.next;\n",
    "        }\n",
    "        return curr.value;\n",
    "        \n",
    "    }\n",
    "   \n",
    "        \n",
    "    // Gibt die Liste aus\n",
    "    @Override\n",
    "    public String toString() { \n",
    "        if (first == null) {\n",
    "            return \"[]\";\n",
    "        } else {\n",
    "            StringBuffer sb = new StringBuffer();\n",
    "            sb.append(\"[\");\n",
    "            for (Node current = first; current != last; current = current.next) {\n",
    "                sb.append(current.value);\n",
    "                sb.append(\",\");\n",
    "            }\n",
    "            sb.append(last.value);\n",
    "            sb.append(\"]\");\n",
    "            return sb.toString();\n",
    "        }\n",
    "    }\n",
    "        \n",
    "}"
   ]
  },
  {
   "cell_type": "code",
   "execution_count": 28,
   "id": "ce6beddc",
   "metadata": {},
   "outputs": [
    {
     "name": "stdout",
     "output_type": "stream",
     "text": [
      "[5,10]\r\n"
     ]
    }
   ],
   "source": [
    "LinkedList l = new LinkedList();\n",
    "l.add(new Integer(5));\n",
    "l.add(new Integer(10));\n",
    "System.out.println(l);"
   ]
  },
  {
   "cell_type": "markdown",
   "id": "81617c73",
   "metadata": {},
   "source": [
    "#### Diskussion:\n",
    "\n",
    "* Welche Nachteile hat diese Implementation?\n",
    "* Können Sie mit dieser Implementation auch Elemente von unterschiedlichem Typ speichern?"
   ]
  },
  {
   "cell_type": "markdown",
   "id": "9dcf53c8",
   "metadata": {},
   "source": [
    "### Teil 3: Generics"
   ]
  },
  {
   "cell_type": "markdown",
   "id": "75933d91",
   "metadata": {},
   "source": [
    "Generics sind ein Sprachkonstrukt, mit welchem wir die obigen Probleme lösen können. Wir können die genaue Typen definieren, die vom Compiler zur Kompilationszeit geprüft werden können, ohne, dass wir Code duplizieren müssen. Die Idee ist, dass wir Typparameter einführen, die Typen parametrisieren. "
   ]
  },
  {
   "cell_type": "markdown",
   "id": "de4418aa",
   "metadata": {},
   "source": [
    "Zur Illustration dieses Konzepts definieren wir uns eine Klasse Tupel, die zwei Elemente von fixem, aber flexibel wählbarem Typ repräsentiert. "
   ]
  },
  {
   "cell_type": "code",
   "execution_count": 32,
   "id": "8de2ae61",
   "metadata": {},
   "outputs": [],
   "source": [
    "class Tuple<T, S> {\n",
    "    private T first;\n",
    "    private S second;\n",
    "    \n",
    "    public Tuple(T first, S second) {\n",
    "        this.first = first;\n",
    "        this.second = second;\n",
    "    }\n",
    "    \n",
    "    @Override \n",
    "    public String toString() { \n",
    "        return \"(\" +first + \",\" + second+ \")\";\n",
    "    }\n",
    "}"
   ]
  },
  {
   "cell_type": "markdown",
   "id": "038d49e5",
   "metadata": {},
   "source": [
    "Wir können dieses wie folgt anwenden:"
   ]
  },
  {
   "cell_type": "code",
   "execution_count": 53,
   "id": "19e2dc95",
   "metadata": {},
   "outputs": [
    {
     "name": "stdout",
     "output_type": "stream",
     "text": [
      "(abc,3.0)\n",
      "(3,5)\n"
     ]
    }
   ],
   "source": [
    "class TupleTest {\n",
    "    public static void main(String[] args) {\n",
    "        Tuple<Integer, Integer> intintTuple = new Tuple(3, 5);\n",
    "        Tuple<String, Double> stringDoubleTuple = new Tuple(\"abc\", 3.0);\n",
    "\n",
    "        System.out.println(stringDoubleTuple);\n",
    "        System.out.println(intintTuple);\n",
    "    }\n",
    "}\n",
    "TupleTest.main(new String[0]);"
   ]
  },
  {
   "cell_type": "markdown",
   "id": "27b1a69f",
   "metadata": {},
   "source": [
    "### Übungen\n",
    "\n",
    "* Können Sie einen Wert vom Typ `Tuple<Integer, Integer>` einer Variable vom Typ `Tuple<String, String>` zuweisen?\n",
    "* Was passiert, wenn Sie beim Konstruieren der Klasse einen Wert vom falschen Typ übergeben?\n",
    "* Können Sie auch Tuple vom primitiven Typ `int` erzeugen?\n",
    "* Schauen Sie sich die [API Dokumentation](https://docs.oracle.com/en/java/javase/17/docs/api/java.base/java/util/LinkedList.html) der Klasse `LinkedList` an. \n",
    "    * Nutzt diese Typparameter? \n",
    "    * Können Sie ein Objekt vom Typ `LinkedList` erstellen, welches Werte vom Typ String entgegennimmt? *Hinweis*. Sie müssen die Klasse Importieren, damit nicht ihre eigene Implementation von Oben benutzt wird. \n",
    "\n",
    "* Passen Sie den nachstehenden Code für das Interface `List` und die Klasse `LinkedList` (inklusive `Node`) so an, dass diese einen Typparameter `E` nutzt, der den Typ der Elemente repräsentiert."
   ]
  },
  {
   "cell_type": "code",
   "execution_count": 41,
   "id": "51ffa36f",
   "metadata": {},
   "outputs": [],
   "source": [
    "public interface List<E> {\n",
    "    \n",
    "    /**\n",
    "      * Appends an element to the end of the list\n",
    "      */\n",
    "    public void add(E element);\n",
    "    \n",
    "    /**\n",
    "      * returns the number of elements in the list\n",
    "      */\n",
    "    public int size();\n",
    "    \n",
    "    /**\n",
    "      * gets the element at position i\n",
    "      */\n",
    "    public E get(int index);    \n",
    "}"
   ]
  },
  {
   "cell_type": "code",
   "execution_count": 42,
   "id": "8df3594f",
   "metadata": {},
   "outputs": [],
   "source": [
    "class Node<E> {\n",
    "    E value;\n",
    "    Node next;\n",
    "    \n",
    "    Node(E value) {\n",
    "        this.value = value;\n",
    "        this.next = null;\n",
    "    }\n",
    "}"
   ]
  },
  {
   "cell_type": "code",
   "execution_count": 47,
   "id": "5c3c0980",
   "metadata": {},
   "outputs": [],
   "source": [
    "public class LinkedList<E> implements List<E> {\n",
    "    \n",
    "    private Node<E> first;\n",
    "    private Node<E> last;\n",
    "    \n",
    "    private int size;\n",
    "    \n",
    "    // Erzeugt eine ArrayList mit gegebener Kapazität\n",
    "    public LinkedList() {\n",
    "        this.first = null;\n",
    "        this.last = null;\n",
    "        this.size = 0;\n",
    "    }\n",
    "    \n",
    "    \n",
    "    // Fügt ein neues Element am Ende der Liste an. \n",
    "    public void add(E element) {\n",
    "        Node<E> newNode = new Node<E>(element);\n",
    "        if (first == null) {\n",
    "            first = newNode;\n",
    "            last = newNode;\n",
    "        } else {\n",
    "            last.next = newNode;\n",
    "            last = newNode;\n",
    "        }        \n",
    "        size = size + 1;\n",
    "    }\n",
    "    \n",
    "    public int size() { \n",
    "        return size;\n",
    "    }\n",
    "    \n",
    "\n",
    "\n",
    "    public E get(int index) {\n",
    "        Node<E> curr = first;\n",
    "        for (int i = 0; i < index; i = i + 1) {\n",
    "            curr = curr.next;\n",
    "        }\n",
    "        return curr.value;\n",
    "        \n",
    "    }\n",
    "   \n",
    "        \n",
    "    // Gibt die Liste aus\n",
    "    @Override\n",
    "    public String toString() { \n",
    "        if (first == null) {\n",
    "            return \"[]\";\n",
    "        } else {\n",
    "            StringBuffer sb = new StringBuffer();\n",
    "            sb.append(\"[\");\n",
    "            for (Node current = first; current != last; current = current.next) {\n",
    "                sb.append(current.value);\n",
    "                sb.append(\",\");\n",
    "            }\n",
    "            sb.append(last.value);\n",
    "            sb.append(\"]\");\n",
    "            return sb.toString();\n",
    "        }\n",
    "    }\n",
    "        \n",
    "}"
   ]
  },
  {
   "cell_type": "code",
   "execution_count": 52,
   "id": "a2a6bfdc",
   "metadata": {},
   "outputs": [
    {
     "name": "stdout",
     "output_type": "stream",
     "text": [
      "[5,10]\r\n"
     ]
    }
   ],
   "source": [
    "LinkedList<Integer> l = new LinkedList<Integer>();\n",
    "l.add(new Integer(5));\n",
    "l.add(new Integer(10));\n",
    "System.out.println(l);"
   ]
  },
  {
   "cell_type": "markdown",
   "id": "c4a13b25",
   "metadata": {},
   "source": [
    "### Übungen \n",
    "\n",
    "* Können Sie mit dieser Implementation in derselben Liste Elemente von unterschiedlichem Typ speichern?\n",
    "\n"
   ]
  },
  {
   "cell_type": "code",
   "execution_count": null,
   "id": "d7f364dc",
   "metadata": {},
   "outputs": [],
   "source": []
  }
 ],
 "metadata": {
  "kernelspec": {
   "display_name": "Java",
   "language": "java",
   "name": "java"
  },
  "language_info": {
   "codemirror_mode": "java",
   "file_extension": ".jshell",
   "mimetype": "text/x-java-source",
   "name": "Java",
   "pygments_lexer": "java",
   "version": "18.0.1+10"
  }
 },
 "nbformat": 4,
 "nbformat_minor": 5
}
