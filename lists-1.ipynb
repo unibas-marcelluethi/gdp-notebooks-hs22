{
 "cells": [
  {
   "cell_type": "markdown",
   "id": "02395950",
   "metadata": {},
   "source": [
    "# Listen\n",
    "\n",
    "#### Marcel Lüthi, Departement Mathematik und Informatik, Universität Basel"
   ]
  },
  {
   "cell_type": "markdown",
   "id": "e814204c",
   "metadata": {},
   "source": [
    "In diesem Arbeitsblatt führen wir ein Beispiel ein, welches uns bis zum Ende des Semesters beschäftigen wird. \n",
    "Wir werden unsere eigenen Listenklassen schreiben. In diesem ersten Teil bauen wir uns zwei einfache Implementationen von Listen, die Elemente vom Typ `double ` verwalten können. Wir verwenden dazu zwei verschiedene Datenstrukturen, nämlich verkettete Listen und Arrays. "
   ]
  },
  {
   "cell_type": "markdown",
   "id": "ea85a956",
   "metadata": {},
   "source": [
    "### Teil 1: Operationen auf Listen "
   ]
  },
  {
   "cell_type": "markdown",
   "id": "aa8f3923",
   "metadata": {},
   "source": [
    "Die Array-Klasse in Java hat grosse Limitierungen:\n",
    "\n",
    "* Die Grösse des Arrays ist fix. \n",
    "* Das Array kann nicht einfach ausgegeben werden. \n",
    "* Vergleiche von Arrays sind schwierig. \n",
    "\n",
    "Wir werden uns deshalb eine eigene Listenklasse schreiben, die diese Probleme behebt. Da es verschiedene mögliche Implementationen von Listen gibt, wollen wir uns noch nicht auf eine festlegen, sondern erst mal definieren, was eine Liste überhaupt können muss. Dies machen wir mit einem Interface. \n",
    "\n",
    "Java stellt uns bereits Listen zur Verfügung. Diese sind in der [Java API Dokumentation](https://docs.oracle.com/en/java/javase/17/docs/api/java.base/java/util/List.html) dokumentiert. Wir orientieren uns an den von Java zur Verfügung gestellten Operationen. "
   ]
  },
  {
   "cell_type": "code",
   "execution_count": 1,
   "id": "0e560019",
   "metadata": {},
   "outputs": [],
   "source": [
    "interface List {\n",
    "    \n",
    "    /**\n",
    "      * Appends an element to the end of the list\n",
    "      */\n",
    "    void add(double element);\n",
    "    \n",
    "    /**\n",
    "      * returns the number of elements in the list\n",
    "      */\n",
    "    int size();\n",
    "    \n",
    "    /**\n",
    "      * gets the element at position i\n",
    "      */\n",
    "    double get(int index);\n",
    "    \n",
    "    /**\n",
    "      * sets the element at position i\n",
    "      */\n",
    "    void set(int index, double element);\n",
    "    \n",
    "    /**\n",
    "      * Returns an array representation of the given list;\n",
    "      */\n",
    "    double[] toArray();\n",
    "    \n",
    "}"
   ]
  },
  {
   "cell_type": "markdown",
   "id": "6ac6f2a2",
   "metadata": {},
   "source": [
    "*Hinweis:* Wir nutzen hier das spezielle Kommentarzeichen `/** */` um Kommentare zu schreiben. Diese Kommentare können vom `javadoc`-Tool, das Teil der Java Entwicklungsumgebung ist, in HTML umgewandelt werden. Damit können wir Dokumentationen wie diese [hier](https://docs.oracle.com/en/java/javase/17/docs/api/java.base/java/util/List.html) erstellen. "
   ]
  },
  {
   "cell_type": "markdown",
   "id": "4c8cc89c",
   "metadata": {},
   "source": [
    "Obwohl wir noch keine Implementation dieses Interfaces haben, können wir bereits Funktionen schreiben, die die zur Verfügung gestellten Listenoperationen nutzen. *Wir programmieren einfach gegen das Interface*. \n",
    "\n",
    "Als Beispiel programmieren wir zwei nützliche Werkzeuge zum Arbeiten mit Listen. Die erste Funktion nimmt eine leere Liste und fügt equidistante Zahlen in einem vorgegebenen Interval ein. Die zweite Funktion berechnet den Durchschnittswert der Elemente in einer Liste. "
   ]
  },
  {
   "cell_type": "code",
   "execution_count": 3,
   "id": "e8d66d2e",
   "metadata": {},
   "outputs": [],
   "source": [
    "class ListTools {\n",
    "\n",
    "    static void addNumbersInRange(List l, double from, double to, int size) {\n",
    "       // Ihre Implementation\n",
    "    }\n",
    "\n",
    "    static double computeAverageValue(List numbers) {\n",
    "        // Ihre Implementation\n",
    "        return 0.0;\n",
    "    }\n",
    "}"
   ]
  },
  {
   "cell_type": "markdown",
   "id": "d3ac767b",
   "metadata": {},
   "source": [
    "### Teil 2 : implementation des Interfaces mittels verketteter Listen"
   ]
  },
  {
   "cell_type": "markdown",
   "id": "7ab0b9e3",
   "metadata": {},
   "source": [
    "Nun wollen wir das Listeninterface implementieren. Es gibt viele verschiedene Möglichkeiten, die Listenelemente zu repräsentieren. Wir wählen hier als Datenstruktur die *verkettete Liste*. "
   ]
  },
  {
   "cell_type": "markdown",
   "id": "3b5d696a",
   "metadata": {},
   "source": [
    "Die Grundlage für die Implementation ist ein Node. Ein Node enthält die Daten (hier der String ```item```) und eine Referenz auf das nächste Element (oder ```null```, falls es kein nächstes Element gibt)."
   ]
  },
  {
   "cell_type": "code",
   "execution_count": 5,
   "id": "466ac4e4",
   "metadata": {},
   "outputs": [],
   "source": [
    "class Node {\n",
    "    double value;\n",
    "    Node next;\n",
    "    \n",
    "    Node(double value) {\n",
    "        this.value = value;\n",
    "        this.next = null;\n",
    "    }\n",
    "}"
   ]
  },
  {
   "cell_type": "markdown",
   "id": "4f76bd71",
   "metadata": {},
   "source": [
    "Um Werte in der Liste zu speichern, können wir einfach Objekte vom Typ `Node` mit dem entsprechenden Wert erzeugen."
   ]
  },
  {
   "cell_type": "code",
   "execution_count": 6,
   "id": "78666ecf",
   "metadata": {},
   "outputs": [],
   "source": [
    "class NodeTest {\n",
    "    static void test() {\n",
    "        Node n1 = new Node(1.0);\n",
    "        Node n2 = new Node(0.0);\n",
    "        Node n3 = new Node(4.0);    \n",
    "    }\n",
    "}"
   ]
  },
  {
   "cell_type": "markdown",
   "id": "1ea39d91",
   "metadata": {},
   "source": [
    "Diese Knoten alleine bilden aber noch keine Liste. Wir müssen diese noch ein eine Sequenz bringen. Dies machen wir, indem wir die entsprechenden `next` Felder der Klassen auf den jeweiligen Nachfolger setzen."
   ]
  },
  {
   "cell_type": "code",
   "execution_count": 7,
   "id": "522b61cc",
   "metadata": {},
   "outputs": [],
   "source": [
    "class NodeTest {\n",
    "    static Node createList() {\n",
    "        Node n1 = new Node(1.0);\n",
    "        Node n2 = new Node(0.0);\n",
    "        Node n3 = new Node(4.0);    \n",
    "        \n",
    "        n1.next = n2;\n",
    "        n2.next = n3;\n",
    "        \n",
    "        return n1;\n",
    "    }\n",
    "    \n",
    "    static void printList(Node first) {\n",
    "        // TODO: Implementieren Sie eine print-Methode, die \n",
    "        // alle Elemente in der Liste ausgibt. \n",
    "    }\n",
    "}\n",
    "\n",
    "NodeTest.printList(NodeTest.createList());"
   ]
  },
  {
   "cell_type": "markdown",
   "id": "c6bbe9eb",
   "metadata": {},
   "source": [
    "Mit dieser Datenstruktur können wir alle Operationen des Interface List implementieren. "
   ]
  },
  {
   "cell_type": "code",
   "execution_count": 13,
   "id": "8dcbd621",
   "metadata": {},
   "outputs": [],
   "source": [
    "\n",
    "\n",
    "class LinkedList implements List {\n",
    "    \n",
    "    Node first;\n",
    "    Node last;\n",
    "    \n",
    "    int size;\n",
    "    \n",
    "    // Erzeugt eine ArrayList mit gegebener Kapazität\n",
    "    public LinkedList() {\n",
    "        this.first = null;\n",
    "        this.last = null;\n",
    "        this.size = 0;\n",
    "    }\n",
    "    \n",
    "    \n",
    "    // Fügt ein neues Element am Ende der Liste an. \n",
    "    public void add(double element) {\n",
    "      // TODO schreiben Sie den Code um eine Element einzufügen\n",
    "    }\n",
    "    \n",
    "    public int size() { \n",
    "        return size;\n",
    "    }\n",
    "    \n",
    "\n",
    "    \n",
    "    public double[] toArray() {\n",
    "       // TODO Implementieren Sie die Methode\n",
    "        return null;\n",
    "    }\n",
    "\n",
    "    public double get(int index) {\n",
    "        // TODO Implementieren Sie die Methode\n",
    "        return 0.0;\n",
    "    }\n",
    "\n",
    "    public void set(int index, double element) {\n",
    "        // TODO Implementieren Sie die Methode\n",
    "    }\n",
    "\n",
    "    \n",
    "        \n",
    "    // Gibt die Liste aus\n",
    "    @Override\n",
    "    public String toString() { \n",
    "        // TODO Implementieren Sie die Methode\n",
    "        return \"\";\n",
    "    }\n",
    "\n",
    "\n",
    "    @Override\n",
    "    public boolean equals(Object other) {\n",
    "        // TODO Implementieren Sie die Methode\n",
    "        return true;\n",
    "    }\n",
    "    \n",
    "    \n",
    "}"
   ]
  },
  {
   "cell_type": "markdown",
   "id": "1ed280f9",
   "metadata": {},
   "source": [
    "Wir testen unsere Implementation, indem wir die bereits implementierten Funktionen `ListTools.addNumbersInRange` und `ListTools.computeAverageValue` nutzen. "
   ]
  },
  {
   "cell_type": "code",
   "execution_count": 14,
   "id": "d6010a62",
   "metadata": {},
   "outputs": [
    {
     "name": "stdout",
     "output_type": "stream",
     "text": [
      "average 0.0\r\n"
     ]
    }
   ],
   "source": [
    "class LinkedListTest {\n",
    "    public static void main(String[] args) {\n",
    "        LinkedList list = new LinkedList();\n",
    "        ListTools.addNumbersInRange(list, 0, 10, 100);        \n",
    "        System.out.println(\"average \" + ListTools.computeAverageValue(list));\n",
    "    }\n",
    "}\n",
    "LinkedListTest.main(new String[0]);"
   ]
  },
  {
   "cell_type": "markdown",
   "id": "47740f79",
   "metadata": {},
   "source": [
    "### Übung\n",
    "\n",
    "* Im Notebook [Objektorientierung](https://jupyterhub-edu.scicore.unibas.ch/hub/user-redirect/git-pull?repo=https%3A%2F%2Fgithub.com%2Funibas-marcelluethi%2Fgdp-notebooks-hs22&urlpath=tree%2Fgdp-notebooks-hs22%2FObjektorientierung.ipynb&branch=main) finden Sie die Klasse ArrayList. Passen Sie diese so an, dass diese das List Interface unterstützt. "
   ]
  },
  {
   "cell_type": "code",
   "execution_count": null,
   "id": "160f5578",
   "metadata": {},
   "outputs": [],
   "source": []
  }
 ],
 "metadata": {
  "kernelspec": {
   "display_name": "Java",
   "language": "java",
   "name": "java"
  },
  "language_info": {
   "codemirror_mode": "java",
   "file_extension": ".jshell",
   "mimetype": "text/x-java-source",
   "name": "Java",
   "pygments_lexer": "java",
   "version": "18.0.1+10"
  }
 },
 "nbformat": 4,
 "nbformat_minor": 5
}
