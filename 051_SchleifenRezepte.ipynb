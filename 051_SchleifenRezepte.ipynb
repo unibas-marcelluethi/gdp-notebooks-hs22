{
 "cells": [
  {
   "cell_type": "markdown",
   "id": "059ea94f",
   "metadata": {},
   "source": [
    "# Schleifen\n",
    "#### Marcel Lüthi, Andreas Morel-Forster<br/>Departement Mathematik und Informatik, Universität Basel"
   ]
  },
  {
   "cell_type": "markdown",
   "id": "8befb597",
   "metadata": {},
   "source": [
    "### Schleifen wiederholen"
   ]
  },
  {
   "cell_type": "markdown",
   "id": "d2b86e33",
   "metadata": {},
   "source": [
    "Im folgenden die Lösung zur Aufgabe\n",
    "\n",
    "*Schreiben Sie eine Schleife, welche alle Zahlen von 1 bis und mit 9 aus gibt.*"
   ]
  },
  {
   "cell_type": "code",
   "execution_count": null,
   "id": "581d925b",
   "metadata": {},
   "outputs": [],
   "source": [
    "public class PrintNumbers {\n",
    "    public static void main(String[] args) {\n",
    "        for(int i = 1; i < 10; i = i + 1) {\n",
    "            System.out.println(i);\n",
    "        }\n",
    "    }\n",
    "}"
   ]
  },
  {
   "cell_type": "code",
   "execution_count": null,
   "id": "affa62b6",
   "metadata": {},
   "outputs": [],
   "source": [
    "PrintNumbers.main(new String[0]);"
   ]
  },
  {
   "cell_type": "markdown",
   "id": "b00ef106",
   "metadata": {},
   "source": [
    "Schaue Sie sich an wo die Schleifenvariable benutzt wird."
   ]
  },
  {
   "cell_type": "markdown",
   "id": "8a15f791",
   "metadata": {},
   "source": [
    "#### Miniübung\n",
    "\n",
    "- Summieren Sie alle Zahlen von 1 bis und mit 9 und geben Sie die Summe aus.\n",
    "\n",
    "*Überlegen Sie zuerst was anders ist, im Bezug darauf wo Sie eine Variable für die Summe verwenden.*"
   ]
  },
  {
   "cell_type": "code",
   "execution_count": null,
   "id": "863bc0d2",
   "metadata": {},
   "outputs": [],
   "source": [
    "public class SumNumbers {\n",
    "    public static void main(String[] args) {\n",
    "    }\n",
    "}"
   ]
  },
  {
   "cell_type": "code",
   "execution_count": null,
   "id": "cf2ca17b",
   "metadata": {},
   "outputs": [],
   "source": [
    "SumNumbers.main(new String[0]);"
   ]
  },
  {
   "cell_type": "markdown",
   "id": "6772dc7b",
   "metadata": {},
   "source": [
    "#### Miniübung\n",
    "\n",
    "- Summieren Sie alle geraden Zahlen von 1 bis und mit 9.\n",
    "- Überlegen Sie sich eine zweite Lösungsstrategie."
   ]
  },
  {
   "cell_type": "code",
   "execution_count": null,
   "id": "530a47b4",
   "metadata": {},
   "outputs": [],
   "source": [
    "public class SumEvenNumbers {\n",
    "    public static void main(String[] args) {\n",
    "    }\n",
    "}"
   ]
  },
  {
   "cell_type": "code",
   "execution_count": null,
   "id": "2d939add",
   "metadata": {},
   "outputs": [],
   "source": [
    "SumEvenNumbers.main(new String[0]);"
   ]
  },
  {
   "cell_type": "markdown",
   "id": "714b79e1",
   "metadata": {},
   "source": [
    "#### Miniübung\n",
    "- Summieren Sie die Zahlen von 1 bis und mit 9, lassen Sie jedoch jede dritte Zahl weg."
   ]
  },
  {
   "cell_type": "code",
   "execution_count": null,
   "id": "9c11b10a",
   "metadata": {},
   "outputs": [],
   "source": [
    "public class SumSelectedNumbers {\n",
    "    public static void main(String[] args) {\n",
    "    }\n",
    "}"
   ]
  },
  {
   "cell_type": "code",
   "execution_count": null,
   "id": "0a6cebb8",
   "metadata": {},
   "outputs": [],
   "source": [
    "SumSelectedNumbers.main(new String[0]);"
   ]
  },
  {
   "cell_type": "markdown",
   "id": "03f6bcd6",
   "metadata": {},
   "source": [
    "#### Miniübung\n",
    "\n",
    "- Summieren Sie die Zahlen von 4444 absteigend bis 1234, lassen Sie jedoch jede dritte Zahl aus."
   ]
  },
  {
   "cell_type": "code",
   "execution_count": null,
   "id": "8c0d5786",
   "metadata": {},
   "outputs": [],
   "source": [
    "public class SumSelectedDecreasing {\n",
    "    public static void main(String[] args) {\n",
    "    }\n",
    "}"
   ]
  },
  {
   "cell_type": "code",
   "execution_count": null,
   "id": "ed3f179d",
   "metadata": {},
   "outputs": [],
   "source": [
    "SumSelectedDecreasing.main(new String[0]);"
   ]
  },
  {
   "cell_type": "markdown",
   "id": "377b3498",
   "metadata": {},
   "source": [
    "### Clean Code\n",
    "\n",
    "Mit clean code bezeichnet man Code welcher einfach zu lesen ist, und somit auch einfach verständlich und einfach wartbar. Dies erfordert meist mehrere Iterationen bei der Entwicklung. Zuerst schreibt man die Funktionalität, danach wird der Code noch einmal überarbeitet, *refactored*, um diesen Lesbarkeit zu verbessern.\n",
    "\n",
    "Was tut das folgende Programm?\n",
    "\n",
    "```java\n",
    "public class Print {\n",
    "    public static void main(String[] args) {\n",
    "        for(int i = 1; i < 10; i = i + 1) {\n",
    "            for(int j = 1; j <= i; j = j + 1) {\n",
    "                System.out.print(j + \" \");\n",
    "            }\n",
    "            System.out.println();\n",
    "        }\n",
    "    }\n",
    "}\n",
    "```"
   ]
  },
  {
   "cell_type": "code",
   "execution_count": null,
   "id": "712ea5b0",
   "metadata": {},
   "outputs": [],
   "source": [
    "// Copy paste von oben"
   ]
  },
  {
   "cell_type": "code",
   "execution_count": null,
   "id": "b35cee03",
   "metadata": {},
   "outputs": [],
   "source": [
    "NumberPyramid.main(new String[0]);"
   ]
  },
  {
   "cell_type": "markdown",
   "id": "5b06430e",
   "metadata": {},
   "source": [
    "### Single Responsibility Prinziple (SRP)\n",
    "\n",
    "Jeder Teil des Programms, hier Methoden, sollen genau eine Aufgabe erledigen. Man schreibt so meist mehr Methoden, welche jedoch kürzer und deshalb auch einfacher zu lesen und verstehen sind. Zudem, wenn diese wirklich nur eine Aufgabe erledigen, findet man meist auch einen aussagekräftigen Namen."
   ]
  },
  {
   "cell_type": "markdown",
   "id": "f4c0ab44",
   "metadata": {},
   "source": [
    "#### Miniübung\n",
    "\n",
    "Schreiben Sie ein Programm, welches alle Koordinatene eines Schachbretts als `(<ZEILE>,<SPALTE>)` ausgibt.\n",
    "\n",
    "Beispiel:\n",
    "```java\n",
    "(0,0) (0,1) .... (0,7)\n",
    "(1,0) (1,1) .... (1,7)\n",
    " ...   ...        ...\n",
    "(7,0) (7,1) .... (7,7)\n",
    "```"
   ]
  },
  {
   "cell_type": "code",
   "execution_count": null,
   "id": "19aa503c",
   "metadata": {},
   "outputs": [],
   "source": [
    "public class ChessCoordinates {\n",
    "    public static void main(String[] args) {\n",
    "    }\n",
    "}"
   ]
  },
  {
   "cell_type": "code",
   "execution_count": null,
   "id": "75bc6268",
   "metadata": {},
   "outputs": [],
   "source": [
    "ChessCoordinates.main(new String[0]);"
   ]
  }
 ],
 "metadata": {
  "kernelspec": {
   "display_name": "Java",
   "language": "java",
   "name": "java"
  },
  "language_info": {
   "codemirror_mode": "java",
   "file_extension": ".jshell",
   "mimetype": "text/x-java-source",
   "name": "Java",
   "pygments_lexer": "java",
   "version": "11.0.10+9-LTS"
  }
 },
 "nbformat": 4,
 "nbformat_minor": 5
}
