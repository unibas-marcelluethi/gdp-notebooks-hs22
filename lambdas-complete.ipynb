{
 "cells": [
  {
   "cell_type": "markdown",
   "id": "ea2b397e",
   "metadata": {},
   "source": [
    "# Funktionsobjekte und Lambda-Ausdrücke\n",
    "\n",
    "##### Marcel Lüthi, Departement Mathematik und Informatik, Universität Basel"
   ]
  },
  {
   "cell_type": "markdown",
   "id": "45cb39b4",
   "metadata": {},
   "source": [
    "In diesem Notebook werden wir zwei neue, nützliche Operationen für unsere Listenklasse einführen. \n",
    "Die erste ist die Methode `map`. Diese dient dazu, eine bestimmte Operation auf jedem Element der Liste anzuwenden und aus dem Resultat eine neue Liste zu erzeugen. Die zweite Methode heisst `filter`. Filter wird genutzt um aus einer Liste eine neue Liste zu erzeugen, die nur Elemente enthält, die ein bestimmtes Prädikat (also eine bestimmte Bedingung) erfüllen. Welche Operation `map` auf jedem Element ausführt und welche Bedingung bei `filter` geprüft wird ist nicht vorgegeben, sondern soll durch den Benutzer der Klasse bestimmt werden können. Wir müssen also die Bedingung, respektive die Operation abstrahieren können. \n",
    "\n"
   ]
  },
  {
   "cell_type": "markdown",
   "id": "a9485c18",
   "metadata": {},
   "source": [
    "#### Übung: \n",
    "\n",
    "* Diskutieren Sie, welches Sprachkonstrukt Sie dafür einsetzen könnten. \n",
    "    * Wie könnte eine Implementation aussehen?\n",
    "    * Ergänzen Sie das Interface um die Methoden `map` und `filter`. "
   ]
  },
  {
   "cell_type": "code",
   "execution_count": 6,
   "id": "45f60c03",
   "metadata": {},
   "outputs": [],
   "source": [
    "interface Function<T, R> {\n",
    "    R apply(T t);\n",
    "}\n",
    "\n",
    "interface List<E> {\n",
    "    void add(E element);\n",
    "    \n",
    "    <R> List<R> map(Function<E, R> action);\n",
    "    \n",
    "    List<E> filter(Function<E, Boolean> action);\n",
    "    \n",
    "    \n",
    "}"
   ]
  },
  {
   "cell_type": "markdown",
   "id": "7af3c65f",
   "metadata": {},
   "source": [
    "### Funktionen "
   ]
  },
  {
   "cell_type": "markdown",
   "id": "5e4906d0",
   "metadata": {},
   "source": [
    "Um allgemeine Funktionen zu implementieren können wir ein Interface `Function` schreiben. Eine Funktion hat nur eine Methode, nämlich die Anwendung der Funktion auf einen Wert. Wir nennen diese `apply`."
   ]
  },
  {
   "cell_type": "code",
   "execution_count": 7,
   "id": "6796fc42",
   "metadata": {},
   "outputs": [],
   "source": [
    "interface Function<T, R> {\n",
    "    R apply(T t);\n",
    "}\n"
   ]
  },
  {
   "cell_type": "markdown",
   "id": "33781f33",
   "metadata": {},
   "source": [
    "#### Übung: \n",
    "\n",
    "* Implementieren Sie eine Funktion `square`, welches die Funktion $f(x)=x^2$ implementiert. "
   ]
  },
  {
   "cell_type": "code",
   "execution_count": 12,
   "id": "b38db81b",
   "metadata": {},
   "outputs": [],
   "source": [
    "class Square implements Function<Integer, Integer> {\n",
    "    public Integer apply(Integer value) {\n",
    "        return value * value;\n",
    "    }\n",
    "}"
   ]
  },
  {
   "cell_type": "markdown",
   "id": "3ad546c3",
   "metadata": {},
   "source": [
    "### Implementation der `map` und `filter` Operation"
   ]
  },
  {
   "cell_type": "markdown",
   "id": "88e3bf66",
   "metadata": {},
   "source": [
    "Mit dieser Abstraktion können wir nun die Funktionen `map` und `filter` für unsere LinkedList implementation implementieren. "
   ]
  },
  {
   "cell_type": "code",
   "execution_count": 13,
   "id": "73f6fd47",
   "metadata": {},
   "outputs": [],
   "source": [
    "class Node<E> {\n",
    "    E value;\n",
    "    Node<E> next;\n",
    "    \n",
    "    Node(E value) {\n",
    "        this.value = value;\n",
    "        this.next = null;\n",
    "    }\n",
    "}"
   ]
  },
  {
   "cell_type": "code",
   "execution_count": 14,
   "id": "66cddaf7",
   "metadata": {},
   "outputs": [],
   "source": [
    "class LinkedList<E> implements List<E> {\n",
    "    \n",
    "    Node<E> first;\n",
    "    Node<E> last;\n",
    "    \n",
    "    int size;\n",
    "    \n",
    "    // Erzeugt eine ArrayList mit gegebener Kapazität\n",
    "    public LinkedList() {\n",
    "        this.first = null;\n",
    "        this.last = null;\n",
    "        this.size = 0;\n",
    "    }\n",
    "    \n",
    "    \n",
    "    // Fügt ein neues Element am Ende der Liste an. \n",
    "    public void add(E element) {\n",
    "        Node<E> newNode = new Node<E>(element);\n",
    "        if (first == null) {\n",
    "            first = newNode;\n",
    "            last = newNode;\n",
    "        } else {\n",
    "            last.next = newNode;\n",
    "            last = newNode;\n",
    "        }        \n",
    "        size = size + 1;\n",
    "    }\n",
    "    \n",
    "   \n",
    "    \n",
    "    public List<E> filter(Function<E, Boolean> predicate) {\n",
    "        List<E> newList = new LinkedList<E>();\n",
    "        Node<E> current = first;\n",
    "        while (current != null) {\n",
    "            if (predicate.apply(current.value)) {\n",
    "                newList.add(current.value);\n",
    "            }\n",
    "            current = current.next;\n",
    "        }\n",
    "        return newList;\n",
    "    }\n",
    "    \n",
    "    public <R> List<R> map(Function<E, R> function) {\n",
    "        List<R> newList = new LinkedList<R>();\n",
    "        Node<E> current = first;\n",
    "        while (current != null) {\n",
    "            newList.add(function.apply(current.value));\n",
    "            current = current.next;\n",
    "        }\n",
    "        return newList;\n",
    "    }\n",
    "    \n",
    "    \n",
    "   \n",
    "     // Gibt die Liste aus\n",
    "    @Override\n",
    "    public String toString() { \n",
    "        if (first == null) {\n",
    "            return \"[]\";\n",
    "        } else {\n",
    "            StringBuffer sb = new StringBuffer();\n",
    "            sb.append(\"[\");\n",
    "            for (Node current = first; current != last; current = current.next) {\n",
    "                sb.append(current.value);\n",
    "                sb.append(\",\");\n",
    "            }\n",
    "            sb.append(last.value);\n",
    "            sb.append(\"]\");\n",
    "            return sb.toString();\n",
    "        }\n",
    "    }\n",
    "}"
   ]
  },
  {
   "cell_type": "markdown",
   "id": "38caf9e8",
   "metadata": {},
   "source": [
    "### Übung: \n",
    "\n",
    "* Implementieren Sie die Funktionen `map` und `filter`. "
   ]
  },
  {
   "cell_type": "markdown",
   "id": "76e3310a",
   "metadata": {},
   "source": [
    "### Anwendung"
   ]
  },
  {
   "cell_type": "markdown",
   "id": "f731e051",
   "metadata": {},
   "source": [
    "Nun können wir Funktionen schreiben mit denen wir die beiden Methoden `map` und `filter` anwenden können. "
   ]
  },
  {
   "cell_type": "markdown",
   "id": "2e79d576",
   "metadata": {},
   "source": [
    "#### Übung\n",
    "\n",
    "* Schreiben Sie eine Funktion `EvenNumberPred`, welche ein Zahl `n` als Eingabe nimmt und `True` zurückgibt falls $n$ gerade ist und sonst `False`."
   ]
  },
  {
   "cell_type": "code",
   "execution_count": 21,
   "id": "0395b84a",
   "metadata": {},
   "outputs": [],
   "source": [
    "class EvenNumberPred implements Function<Integer, Boolean> {\n",
    "    public Boolean apply(Integer e) {\n",
    "        return e % 2 == 0;\n",
    "    }\n",
    "}"
   ]
  },
  {
   "cell_type": "markdown",
   "id": "450a0a33",
   "metadata": {},
   "source": [
    "Der folgende Code zeit die Anwendung dieser beiden Methoden. "
   ]
  },
  {
   "cell_type": "code",
   "execution_count": 22,
   "id": "623b37db",
   "metadata": {},
   "outputs": [
    {
     "name": "stdout",
     "output_type": "stream",
     "text": [
      "[0,2,4,6,8]\n",
      "[0,1,4,9,16,25,36,49,64,81]\n"
     ]
    }
   ],
   "source": [
    "class MapFilterTest {\n",
    "    public static void main(String[] args) {\n",
    "        LinkedList<Integer> l = new LinkedList<Integer>();\n",
    "        for (int i = 0; i < 10; i = i + 1) {\n",
    "            l.add(i);\n",
    "        }\n",
    "        List<Integer> filteredList = l.filter(new EvenNumberPred());\n",
    "        List<Integer> mappedList = l.map(new Square());\n",
    "        System.out.println(filteredList);\n",
    "        System.out.println(mappedList);\n",
    "    }\n",
    "}\n",
    "\n",
    "MapFilterTest.main(new String[0]);"
   ]
  },
  {
   "cell_type": "code",
   "execution_count": null,
   "id": "d346da08",
   "metadata": {},
   "outputs": [],
   "source": []
  },
  {
   "cell_type": "markdown",
   "id": "505e58c1",
   "metadata": {},
   "source": [
    "### Kurzschreibweise mit Lambdas"
   ]
  },
  {
   "cell_type": "markdown",
   "id": "ea613ed5",
   "metadata": {},
   "source": [
    "Die Methoden `map` und `filter` sind sehr elegant. Das Schreiben der Funktionen selbst ist aber mühsam. Java stellt mit Lambda-Funktionen hier eine kurze Schreibweise zur Verfügung. \n",
    "Dies wird im Code unten illustriert:"
   ]
  },
  {
   "cell_type": "code",
   "execution_count": 23,
   "id": "1c445767",
   "metadata": {},
   "outputs": [
    {
     "name": "stdout",
     "output_type": "stream",
     "text": [
      "[0,2,4,6,8]\n",
      "[0,1,4,9,16,25,36,49,64,81]\n"
     ]
    }
   ],
   "source": [
    "class MapFilterTest {\n",
    "    public static void main(String[] args) {\n",
    "        LinkedList<Integer> l = new LinkedList<Integer>();\n",
    "        for (int i = 0; i < 10; i = i + 1) {\n",
    "            l.add(i);\n",
    "        }\n",
    "        List<Integer> filteredList = l.filter(x -> x % 2 == 0);\n",
    "        List<Integer> mappedList = l.map(x -> x * x);\n",
    "        System.out.println(filteredList);\n",
    "        System.out.println(mappedList);\n",
    "    }\n",
    "}\n",
    "\n",
    "MapFilterTest.main(new String[0]);"
   ]
  }
 ],
 "metadata": {
  "kernelspec": {
   "display_name": "Java",
   "language": "java",
   "name": "java"
  },
  "language_info": {
   "codemirror_mode": "java",
   "file_extension": ".jshell",
   "mimetype": "text/x-java-source",
   "name": "Java",
   "pygments_lexer": "java",
   "version": "18.0.1+10"
  }
 },
 "nbformat": 4,
 "nbformat_minor": 5
}
