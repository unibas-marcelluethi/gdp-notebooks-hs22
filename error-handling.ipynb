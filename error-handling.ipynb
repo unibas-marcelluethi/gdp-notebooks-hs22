{
 "cells": [
  {
   "cell_type": "markdown",
   "id": "90963962",
   "metadata": {},
   "source": [
    "\n",
    "# Fehlerbehandlung\n",
    "\n",
    "### Marcel Lüthi, Departement Mathematik und Informatik, Universität Basel"
   ]
  },
  {
   "cell_type": "markdown",
   "id": "1f9ad8f7",
   "metadata": {},
   "source": [
    "Wir schauen uns wieder eine Teilmenge der Operationen unserer Listenklasse an. Insbesondere interessiert uns die `get` Methode. "
   ]
  },
  {
   "cell_type": "code",
   "execution_count": 27,
   "id": "7fb0ea6a",
   "metadata": {},
   "outputs": [],
   "source": [
    "interface List<E> {\n",
    "    \n",
    "    /**\n",
    "      * Appends an element to the end of the list\n",
    "      */\n",
    "    void add(E element);\n",
    "    \n",
    "    /**\n",
    "      * returns the number of elements in the list\n",
    "      */\n",
    "    int size();\n",
    "    \n",
    "    /**\n",
    "      * gets the element at position i\n",
    "      */\n",
    "    E get(int index);\n",
    "}"
   ]
  },
  {
   "cell_type": "markdown",
   "id": "7298bebb",
   "metadata": {},
   "source": [
    "Wir können uns fragen, was denn passiert, wenn wir einen Index übergeben, der grösser ist als die Anzahl Elemente?"
   ]
  },
  {
   "cell_type": "markdown",
   "id": "97a9917f",
   "metadata": {},
   "source": [
    "#### Aufgabe: \n",
    "\n",
    "* Schauen Sie sich die Implementation (unten) an. Was macht die Methode im Fehlerfall? Probieren Sie es auch aus. \n",
    "* Diskutieren Sie Folgendes: \n",
    "    * Was sollte die Methode `get` machen, wenn ein negativer oder zu grosser Index angegeben wird?\n",
    "    * Manche Methoden können fehlschlagen (wie get) und manche nicht (wie size). Wie kann ein Benutzer dies unterscheiden? "
   ]
  },
  {
   "cell_type": "code",
   "execution_count": 28,
   "id": "d85ed06c",
   "metadata": {},
   "outputs": [],
   "source": [
    "class Node<E> {\n",
    "    E value;\n",
    "    Node<E> next;\n",
    "    \n",
    "    Node(E value) {\n",
    "        this.value = value;\n",
    "        this.next = null;\n",
    "    }\n",
    "}"
   ]
  },
  {
   "cell_type": "code",
   "execution_count": 29,
   "id": "887b9edd",
   "metadata": {},
   "outputs": [],
   "source": [
    "class LinkedList<E> implements List<E> {\n",
    "    \n",
    "    Node<E> first;\n",
    "    Node<E> last;\n",
    "    \n",
    "    int size;\n",
    "    \n",
    "    // Erzeugt eine ArrayList mit gegebener Kapazität\n",
    "    public LinkedList() {\n",
    "        this.first = null;\n",
    "        this.last = null;\n",
    "        this.size = 0;\n",
    "    }\n",
    "    \n",
    "    \n",
    "    // Fügt ein neues Element am Ende der Liste an. \n",
    "    public void add(E element) {\n",
    "        Node<E> newNode = new Node<E>(element);\n",
    "        if (first == null) {\n",
    "            first = newNode;\n",
    "            last = newNode;\n",
    "        } else {\n",
    "            last.next = newNode;\n",
    "            last = newNode;\n",
    "        }        \n",
    "        size = size + 1;\n",
    "    }\n",
    "    \n",
    "    public int size() { \n",
    "        return size;\n",
    "    }\n",
    "    \n",
    "    public E get(int index) {\n",
    "        Node<E> curr = first;\n",
    "        for (int i = 0; i < index; i = i + 1) {\n",
    "            curr = curr.next;\n",
    "        }\n",
    "        return curr.value;\n",
    "        \n",
    "    }   \n",
    "}"
   ]
  },
  {
   "cell_type": "markdown",
   "id": "aec937a7",
   "metadata": {},
   "source": [
    "# Teil 1: Die Klasse Optional"
   ]
  },
  {
   "cell_type": "markdown",
   "id": "3f8058f1",
   "metadata": {},
   "source": [
    "Eine Möglichkeit, dem Benutzer mitzuteilen, dass eine Methode eventuell kein Resultat zurückgeben wird ist, dies durch einen Datentyp (eine Klasse) zu repräsentieren. In Java wird diese Klasse `Optional` genannt. "
   ]
  },
  {
   "cell_type": "code",
   "execution_count": 30,
   "id": "b42db74e",
   "metadata": {},
   "outputs": [],
   "source": [
    "interface List<E> {\n",
    "    \n",
    "    /**\n",
    "      * Appends an element to the end of the list\n",
    "      */\n",
    "    void add(E element);\n",
    "    \n",
    "    /**\n",
    "      * returns the number of elements in the list\n",
    "      */\n",
    "    int size();\n",
    "    \n",
    "    /**\n",
    "      * gets the element at position i\n",
    "      */\n",
    "    Optional<E> get(int index);\n",
    "}"
   ]
  },
  {
   "cell_type": "markdown",
   "id": "b9828adf",
   "metadata": {},
   "source": [
    "Diese kann sehr einfach implementiert werden. "
   ]
  },
  {
   "cell_type": "code",
   "execution_count": 32,
   "id": "3280442b",
   "metadata": {},
   "outputs": [],
   "source": [
    "// Implementation wird in der Vorlesung erarbeitet. "
   ]
  },
  {
   "cell_type": "markdown",
   "id": "55de1dcb",
   "metadata": {},
   "source": [
    "Nun können wir die Implementation der Listenklasse anpassen. "
   ]
  },
  {
   "cell_type": "code",
   "execution_count": 34,
   "id": "829f6d3c",
   "metadata": {},
   "outputs": [],
   "source": [
    "class LinkedList<E> implements List<E> {\n",
    "    \n",
    "    Node<E> first;\n",
    "    Node<E> last;\n",
    "    \n",
    "    int size;\n",
    "    \n",
    "    // Erzeugt eine ArrayList mit gegebener Kapazität\n",
    "    public LinkedList() {\n",
    "        this.first = null;\n",
    "        this.last = null;\n",
    "        this.size = 0;\n",
    "    }\n",
    "    \n",
    "    \n",
    "    // Fügt ein neues Element am Ende der Liste an. \n",
    "    public void add(E element) {\n",
    "        Node<E> newNode = new Node<E>(element);\n",
    "        if (first == null) {\n",
    "            first = newNode;\n",
    "            last = newNode;\n",
    "        } else {\n",
    "            last.next = newNode;\n",
    "            last = newNode;\n",
    "        }        \n",
    "        size = size + 1;\n",
    "    }\n",
    "    \n",
    "    public int size() { \n",
    "        return size;\n",
    "    }\n",
    "        \n",
    "    public Optional<E> get(int index) {\n",
    "        // wird in der Vorlesung erarbeitet\n",
    "        return null;\n",
    "    }   \n",
    "}"
   ]
  },
  {
   "cell_type": "code",
   "execution_count": 35,
   "id": "be1758e1",
   "metadata": {},
   "outputs": [],
   "source": [
    "LinkedList<Double> l = new LinkedList<Double>();\n",
    "l.add(3.0);\n",
    "l.get(0);"
   ]
  },
  {
   "cell_type": "markdown",
   "id": "ae4034c2",
   "metadata": {},
   "source": [
    "# Teil 2: Exceptions"
   ]
  },
  {
   "cell_type": "markdown",
   "id": "928da663",
   "metadata": {},
   "source": [
    "Die Nutzung von Optional ist eine Möglichkeit der Fehlerbehandlung. Eine weitere Möglichkeit, die in Java auch meist verwendet wird, ist die Nutzung von Exceptions. "
   ]
  },
  {
   "cell_type": "markdown",
   "id": "64962f33",
   "metadata": {},
   "source": [
    "Um die Implementation von Java zu testen, importieren wir die ArrayList Klasse von der Java Bibliothek `java.util`. "
   ]
  },
  {
   "cell_type": "code",
   "execution_count": 36,
   "id": "366a50aa",
   "metadata": {},
   "outputs": [],
   "source": [
    "import java.util.ArrayList;"
   ]
  },
  {
   "cell_type": "markdown",
   "id": "67664938",
   "metadata": {},
   "source": [
    "Der folgende Aufruf führt zu einem Fehler:"
   ]
  },
  {
   "cell_type": "code",
   "execution_count": 37,
   "id": "e63b3896",
   "metadata": {},
   "outputs": [
    {
     "ename": "EvalException",
     "evalue": "Index 3 out of bounds for length 1",
     "output_type": "error",
     "traceback": [
      "\u001b[1m\u001b[31m---------------------------------------------------------------------------\u001b[0m",
      "\u001b[1m\u001b[31mjava.lang.IndexOutOfBoundsException: Index 3 out of bounds for length 1\u001b[0m",
      "\u001b[1m\u001b[31m\tat java.base/jdk.internal.util.Preconditions.outOfBounds(Preconditions.java:100)\u001b[0m",
      "\u001b[1m\u001b[31m\tat java.base/jdk.internal.util.Preconditions.outOfBoundsCheckIndex(Preconditions.java:106)\u001b[0m",
      "\u001b[1m\u001b[31m\tat java.base/jdk.internal.util.Preconditions.checkIndex(Preconditions.java:302)\u001b[0m",
      "\u001b[1m\u001b[31m\tat java.base/java.util.Objects.checkIndex(Objects.java:359)\u001b[0m",
      "\u001b[1m\u001b[31m\tat java.base/java.util.ArrayList.get(ArrayList.java:427)\u001b[0m",
      "\u001b[1m\u001b[31m\tat .(#40:1)\u001b[0m"
     ]
    }
   ],
   "source": [
    "ArrayList<String> list = new ArrayList<String>();\n",
    "list.add(\"abc\");\n",
    "list.get(3);"
   ]
  },
  {
   "cell_type": "markdown",
   "id": "d7e5dfb7",
   "metadata": {},
   "source": [
    "Hier wurde eine *Exception* geworfen um den Fehler anzuzeigen. Exceptions sind einfache Objekte, die im Fehlerfall anstatt eines normalen Rückgabewerts einer Methode zurückgegeben werden. Dies werden aber nicht einer Variable zugewiesen, sondern werden von einem speziellen *Exceptionhandler* gefangen. Dies geschieht wie folgt:"
   ]
  },
  {
   "cell_type": "code",
   "execution_count": 38,
   "id": "a2bbcdba",
   "metadata": {},
   "outputs": [
    {
     "name": "stdout",
     "output_type": "stream",
     "text": [
      "Index 3 out of bounds for length 1\r\n"
     ]
    }
   ],
   "source": [
    "ArrayList<String> list = new ArrayList<String>();\n",
    "list.add(\"abc\");\n",
    "\n",
    "try {\n",
    "    list.get(3);\n",
    "} catch (IndexOutOfBoundsException e) {\n",
    "    System.out.println(e.getMessage());\n",
    "}    "
   ]
  },
  {
   "cell_type": "markdown",
   "id": "8c33220e",
   "metadata": {},
   "source": [
    "Eine Exception ist einfach eine Klasse. \n",
    "\n",
    "##### Übung: \n",
    "\n",
    "* Schauen Sie sich die [API-dokumentation](https://docs.oracle.com/en/java/javase/17/docs/api/java.base/java/lang/Exception.html) an. \n",
    "    * Wie erzeugen Sie eine Exception?\n",
    "    * Welche Methoden gibt es?\n",
    "    * Welche Klassen erben von Exceptions?\n",
    "* Versuchen Sie eine Instanz einer Exception zu erstellen. \n",
    "* Experimentieren Sie mit den Methoden. Was machen diese?"
   ]
  },
  {
   "cell_type": "markdown",
   "id": "8d66d56d",
   "metadata": {},
   "source": [
    "Der folgende Code illustriert, wie man einen Fehler mit Exceptions anzeigt:"
   ]
  },
  {
   "cell_type": "code",
   "execution_count": 39,
   "id": "ac46a593",
   "metadata": {},
   "outputs": [],
   "source": [
    "class ExceptionTest {\n",
    "    static double  divide(int a, int b) throws Exception {\n",
    "        if (b == 0) {\n",
    "            throw new Exception(\"cannot divide by 0\");\n",
    "        } else { \n",
    "            return a / (double) b;\n",
    "        }\n",
    "    }\n",
    "}"
   ]
  },
  {
   "cell_type": "markdown",
   "id": "33f38bf5",
   "metadata": {},
   "source": [
    "Beachten Sie Folgendes: \n",
    "\n",
    "* Die `throws`-Klausel in der Methodensignatur. \n",
    "* Im Fehlerfall wird mit `throw` ein Objekt der Klasse Exception geworfen. \n"
   ]
  },
  {
   "cell_type": "markdown",
   "id": "3c1d975b",
   "metadata": {},
   "source": [
    "#### Übung\n",
    "\n",
    "* Rufen Sie die Methode auf und Fangen Sie die Exception (wie oben mit List gezeigt). \n",
    "* Können Sie die LinkedList Klasse so anpassen, dass diese einen Fehler in der `get` Methode mittels einer `IndexOutOfBoundsException` anzeigt?"
   ]
  },
  {
   "cell_type": "code",
   "execution_count": 40,
   "id": "7df1c249",
   "metadata": {},
   "outputs": [],
   "source": [
    "class ExceptionTest {\n",
    "\n",
    "    public static void main(String[] args) {\n",
    "        // Ihre Experiemnte\n",
    "    }\n",
    "}\n",
    "ExceptionTest.main(new String[0]);"
   ]
  },
  {
   "cell_type": "code",
   "execution_count": 41,
   "id": "6e59f18b",
   "metadata": {},
   "outputs": [],
   "source": [
    "class LinkedList<E> {\n",
    "    \n",
    "    Node<E> first;\n",
    "    Node<E> last;\n",
    "    \n",
    "    int size;\n",
    "    \n",
    "    // Erzeugt eine ArrayList mit gegebener Kapazität\n",
    "    public LinkedList() {\n",
    "        this.first = null;\n",
    "        this.last = null;\n",
    "        this.size = 0;\n",
    "    }\n",
    "    \n",
    "    \n",
    "    // Fügt ein neues Element am Ende der Liste an. \n",
    "    public void add(E element) {\n",
    "        Node<E> newNode = new Node<E>(element);\n",
    "        if (first == null) {\n",
    "            first = newNode;\n",
    "            last = newNode;\n",
    "        } else {\n",
    "            last.next = newNode;\n",
    "            last = newNode;\n",
    "        }        \n",
    "        size = size + 1;\n",
    "    }\n",
    "    \n",
    "    public int size() { \n",
    "        return size;\n",
    "    }\n",
    "        \n",
    "    public E get(int index)  {\n",
    "        Node<E> curr = first;\n",
    "        for (int i = 0; i < index; i = i + 1) {\n",
    "            curr = curr.next;\n",
    "        }\n",
    "        return curr.value;\n",
    "        \n",
    "    }   \n",
    "}"
   ]
  },
  {
   "cell_type": "code",
   "execution_count": null,
   "id": "e6f41f57",
   "metadata": {},
   "outputs": [],
   "source": []
  }
 ],
 "metadata": {
  "kernelspec": {
   "display_name": "Java",
   "language": "java",
   "name": "java"
  },
  "language_info": {
   "codemirror_mode": "java",
   "file_extension": ".jshell",
   "mimetype": "text/x-java-source",
   "name": "Java",
   "pygments_lexer": "java",
   "version": "18.0.1+10"
  }
 },
 "nbformat": 4,
 "nbformat_minor": 5
}
