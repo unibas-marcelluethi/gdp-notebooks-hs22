{
 "cells": [
  {
   "cell_type": "markdown",
   "id": "02395950",
   "metadata": {},
   "source": [
    "# Sichtbarkeitsmodifikatoren und Generische Programmierung\n",
    "\n",
    "#### Marcel Lüthi, Departement Mathematik und Informatik, Universität Basel"
   ]
  },
  {
   "cell_type": "markdown",
   "id": "e814204c",
   "metadata": {},
   "source": [
    "In diesem Arbeitsblatt arbeiten wir mit unserer Listenklasse weiter. Wir setzten passende Zugriffsmodifikatoren und diskutieren, warum wir gewisse Teile vom Code vor Zugriff schützen wollen. \n",
    "\n",
    "Danach führen wir Generics ein und passen die Listenklasse entsprechend an. "
   ]
  },
  {
   "cell_type": "markdown",
   "id": "ea85a956",
   "metadata": {},
   "source": [
    "### Teil 1: Zugriffsmodifikatoren"
   ]
  },
  {
   "cell_type": "markdown",
   "id": "aa8f3923",
   "metadata": {},
   "source": [
    "##### Übung\n",
    "\n",
    "* Sie finden nachstehend den vollständigen Code für unsere LinkedList Implementation. Setzten Sie vor Jedes Interface, jede Klasse und jede Methode ein passendes Sichtbarkeitsattribut (oder lassen Sie es weg, falls die default-Sichtbarkeit die richtige Wahl ist). "
   ]
  },
  {
   "cell_type": "code",
   "execution_count": null,
   "id": "0e560019",
   "metadata": {},
   "outputs": [],
   "source": [
    "interface List {\n",
    "    \n",
    "    /**\n",
    "      * Appends an element to the end of the list\n",
    "      */\n",
    "    void add(double element);\n",
    "    \n",
    "    /**\n",
    "      * returns the number of elements in the list\n",
    "      */\n",
    "    int size();\n",
    "    \n",
    "    /**\n",
    "      * gets the element at position i\n",
    "      */\n",
    "    double get(int index);\n",
    "    \n",
    "    /**\n",
    "      * sets the element at position i\n",
    "      */\n",
    "    void set(int index, double element);\n",
    "    \n",
    "    /**\n",
    "      * Returns an array representation of the given list;\n",
    "      */\n",
    "    double[] toArray();\n",
    "    \n",
    "}"
   ]
  },
  {
   "cell_type": "code",
   "execution_count": null,
   "id": "466ac4e4",
   "metadata": {},
   "outputs": [],
   "source": [
    "class Node {\n",
    "    double value;\n",
    "    Node next;\n",
    "    \n",
    "    Node(double value) {\n",
    "        this.value = value;\n",
    "        this.next = null;\n",
    "    }\n",
    "}"
   ]
  },
  {
   "cell_type": "code",
   "execution_count": null,
   "id": "8dcbd621",
   "metadata": {},
   "outputs": [],
   "source": [
    "\n",
    "\n",
    "public class LinkedList implements List {\n",
    "    \n",
    "    Node first;\n",
    "    Node last;\n",
    "    \n",
    "    int size;\n",
    "    \n",
    "    // Erzeugt eine ArrayList mit gegebener Kapazität\n",
    "    LinkedList() {\n",
    "        this.first = null;\n",
    "        this.last = null;\n",
    "        this.size = 0;\n",
    "    }\n",
    "    \n",
    "    \n",
    "    // Fügt ein neues Element am Ende der Liste an. \n",
    "    void add(double element) {\n",
    "        Node newNode = new Node(element);\n",
    "        if (first == null) {\n",
    "            first = newNode;\n",
    "            last = newNode;\n",
    "        } else {\n",
    "            last.next = newNode;\n",
    "            last = newNode;\n",
    "        }        \n",
    "        size = size + 1;\n",
    "    }\n",
    "    \n",
    "    int size() { \n",
    "        return size;\n",
    "    }\n",
    "    \n",
    "\n",
    "    \n",
    "    double[] toArray() {\n",
    "        double[] array = new double[size];\n",
    "        \n",
    "        Node current = first;\n",
    "        for (int i = 0; i < size; i = i + 1) {\n",
    "            array[i] = current.value;\n",
    "            current = current.next;\n",
    "        }\n",
    "        \n",
    "        return array;\n",
    "    }\n",
    "\n",
    "    double get(int index) {\n",
    "        Node curr = first;\n",
    "        for (int i = 0; i < index; i = i + 1) {\n",
    "            curr = curr.next;\n",
    "        }\n",
    "        return curr.value;\n",
    "        \n",
    "    }\n",
    "\n",
    "    void set(int index, double element) {\n",
    "        Node curr = first;\n",
    "        for (int i = 0; i < index; i = i + 1) {\n",
    "            curr = curr.next;\n",
    "        }\n",
    "        curr.value = element;\n",
    "        \n",
    "    }\n",
    "\n",
    "    \n",
    "        \n",
    "    // Gibt die Liste aus\n",
    "    @Override\n",
    "    String toString() { \n",
    "        if (first == null) {\n",
    "            return \"[]\";\n",
    "        } else {\n",
    "            StringBuffer sb = new StringBuffer();\n",
    "            sb.append(\"[\");\n",
    "            for (Node current = first; current != last; current = current.next) {\n",
    "                sb.append(current.value);\n",
    "                sb.append(\",\");\n",
    "            }\n",
    "            sb.append(last.value);\n",
    "            sb.append(\"]\");\n",
    "            return sb.toString();\n",
    "        }\n",
    "    }\n",
    "\n",
    "\n",
    "    @Override\n",
    "    boolean equals(Object other) {\n",
    "        if (!(other instanceof LinkedList)) {\n",
    "            return false;\n",
    "        }\n",
    "        LinkedList otherLL = (LinkedList) other;\n",
    "        \n",
    "        if (otherLL.size() != this.size()) { \n",
    "            return false;\n",
    "        }\n",
    "\n",
    "        \n",
    "        Node currThis = first;\n",
    "        Node currOther = otherLL.first;\n",
    "\n",
    "        while (currThis != null) {\n",
    "            if (currThis.value != currOther.value) {\n",
    "                return false;\n",
    "            }\n",
    "            currThis = currThis.next;\n",
    "            currOther = currOther.next;\n",
    "        }\n",
    "        return true;\n",
    "        \n",
    "    }\n",
    "    \n",
    "    \n",
    "}"
   ]
  },
  {
   "cell_type": "markdown",
   "id": "1ed280f9",
   "metadata": {},
   "source": [
    "Wir testen unsere Implementation, indem wir die bereits implementierten Funktionen `ListTools.addNumbersInRange` und `ListTools.computeAverageValue` nutzen. "
   ]
  },
  {
   "cell_type": "markdown",
   "id": "a79d023f",
   "metadata": {},
   "source": [
    "### Teil 2: Eine flexiblere Listenklasse"
   ]
  },
  {
   "cell_type": "markdown",
   "id": "bbe16e5c",
   "metadata": {},
   "source": [
    "In obiger Implementation können wir in der Liste nur Elemente vom Typ `double` nutzen. \n",
    "\n",
    "#### Diskussion\n",
    "\n",
    "* Wie gehen wir vor, wenn wir nun auch eine Liste mit Elementen vom Typ `String` möchten? Kennen Sie eine bessere Methode als den Code zu kopieren und anzupassen? (Hinweis: Alle Klassen in Java sind hierarchisch angeordnet)?"
   ]
  },
  {
   "cell_type": "markdown",
   "id": "0dc504a0",
   "metadata": {},
   "source": [
    "#### Mögliche Implementation"
   ]
  },
  {
   "cell_type": "markdown",
   "id": "fbc8484b",
   "metadata": {},
   "source": [
    "Wird in der Präsenzveranstaltung erarbeitet."
   ]
  },
  {
   "cell_type": "code",
   "execution_count": null,
   "id": "ce6beddc",
   "metadata": {},
   "outputs": [],
   "source": []
  },
  {
   "cell_type": "markdown",
   "id": "81617c73",
   "metadata": {},
   "source": [
    "#### Diskussion:\n",
    "\n",
    "* Welche Nachteile hat diese Implementation?\n",
    "* Können Sie mit dieser Implementation auch Elemente von unterschiedlichem Typ speichern?"
   ]
  },
  {
   "cell_type": "markdown",
   "id": "9dcf53c8",
   "metadata": {},
   "source": [
    "### Teil 3: Generics"
   ]
  },
  {
   "cell_type": "markdown",
   "id": "75933d91",
   "metadata": {},
   "source": [
    "Generics sind ein Sprachkonstrukt, mit welchem wir die obigen Probleme lösen können. Wir können die genaue Typen definieren, die vom Compiler zur Kompilationszeit geprüft werden können, ohne, dass wir Code duplizieren müssen. Die Idee ist, dass wir Typparameter einführen, die Typen parametrisieren. "
   ]
  },
  {
   "cell_type": "markdown",
   "id": "de4418aa",
   "metadata": {},
   "source": [
    "Zur Illustration dieses Konzepts definieren wir uns eine Klasse Tupel, die zwei Elemente von fixem, aber flexibel wählbarem Typ repräsentiert. "
   ]
  },
  {
   "cell_type": "code",
   "execution_count": null,
   "id": "8de2ae61",
   "metadata": {},
   "outputs": [],
   "source": [
    "class Tuple<T, S> {\n",
    "    private T first;\n",
    "    private S second;\n",
    "    \n",
    "    public Tuple(T first, S second) {\n",
    "        this.first = first;\n",
    "        this.second = second;\n",
    "    }\n",
    "    \n",
    "    @Override \n",
    "    public String toString() { \n",
    "        return \"(\" +first + \",\" + second+ \")\";\n",
    "    }\n",
    "}"
   ]
  },
  {
   "cell_type": "markdown",
   "id": "038d49e5",
   "metadata": {},
   "source": [
    "Wir können dieses wie folgt anwenden:"
   ]
  },
  {
   "cell_type": "code",
   "execution_count": null,
   "id": "19e2dc95",
   "metadata": {},
   "outputs": [],
   "source": [
    "class TupleTest {\n",
    "    public static void main(String[] args) {\n",
    "        Tuple<Integer, Integer> intintTuple = new Tuple(3, 5);\n",
    "        Tuple<String, Double> stringDoubleTuple = new Tuple(\"abc\", 3.0);\n",
    "\n",
    "        System.out.println(stringDoubleTuple);\n",
    "        System.out.println(intintTuple);\n",
    "    }\n",
    "}\n",
    "TupleTest.main(new String[0]);"
   ]
  },
  {
   "cell_type": "markdown",
   "id": "27b1a69f",
   "metadata": {},
   "source": [
    "### Übungen\n",
    "\n",
    "* Können Sie einen Wert vom Typ `Tuple<Integer, Integer>` einer Variable vom Typ `Tuple<String, String>` zuweisen?\n",
    "* Was passiert, wenn Sie beim Konstruieren der Klasse einen Wert vom falschen Typ übergeben?\n",
    "* Können Sie auch Tuple vom primitiven Typ `int` erzeugen?\n",
    "* Schauen Sie sich die [API Dokumentation](https://docs.oracle.com/en/java/javase/17/docs/api/java.base/java/util/LinkedList.html) der Klasse `LinkedList` an. \n",
    "    * Nutzt diese Typparameter? \n",
    "    * Können Sie ein Objekt vom Typ `LinkedList` erstellen, welches Werte vom Typ String entgegennimmt? *Hinweis*. Sie müssen die Klasse Importieren, damit nicht ihre eigene Implementation von Oben benutzt wird. \n",
    "\n",
    "* Passen Sie den nachstehenden Code für das Interface `List` und die Klasse `LinkedList` (inklusive `Node`) so an, dass diese einen Typparameter `E` nutzt, der den Typ der Elemente repräsentiert."
   ]
  },
  {
   "cell_type": "code",
   "execution_count": null,
   "id": "51ffa36f",
   "metadata": {},
   "outputs": [],
   "source": [
    "public interface List {\n",
    "    \n",
    "    /**\n",
    "      * Appends an element to the end of the list\n",
    "      */\n",
    "    public void add(double element);\n",
    "    \n",
    "    /**\n",
    "      * returns the number of elements in the list\n",
    "      */\n",
    "    public int size();\n",
    "    \n",
    "    /**\n",
    "      * gets the element at position i\n",
    "      */\n",
    "    public double get(int index);    \n",
    "}"
   ]
  },
  {
   "cell_type": "code",
   "execution_count": null,
   "id": "bed437a2",
   "metadata": {},
   "outputs": [],
   "source": [
    "class Node {\n",
    "    double value;\n",
    "    Node next;\n",
    "    \n",
    "    Node(double value) {\n",
    "        this.value = value;\n",
    "        this.next = null;\n",
    "    }\n",
    "}"
   ]
  },
  {
   "cell_type": "code",
   "execution_count": null,
   "id": "b4ddbeda",
   "metadata": {},
   "outputs": [],
   "source": [
    "public class LinkedList implements List {\n",
    "    \n",
    "    private Node first;\n",
    "    private Node last;\n",
    "    \n",
    "    private int size;\n",
    "    \n",
    "    // Erzeugt eine ArrayList mit gegebener Kapazität\n",
    "    public LinkedList() {\n",
    "        this.first = null;\n",
    "        this.last = null;\n",
    "        this.size = 0;\n",
    "    }\n",
    "    \n",
    "    \n",
    "    // Fügt ein neues Element am Ende der Liste an. \n",
    "    public void add(double element) {\n",
    "        Node newNode = new Node(element);\n",
    "        if (first == null) {\n",
    "            first = newNode;\n",
    "            last = newNode;\n",
    "        } else {\n",
    "            last.next = newNode;\n",
    "            last = newNode;\n",
    "        }        \n",
    "        size = size + 1;\n",
    "    }\n",
    "    \n",
    "    public int size() { \n",
    "        return size;\n",
    "    }\n",
    "    \n",
    "\n",
    "\n",
    "    public double get(int index) {\n",
    "        Node curr = first;\n",
    "        for (int i = 0; i < index; i = i + 1) {\n",
    "            curr = curr.next;\n",
    "        }\n",
    "        return curr.value;\n",
    "        \n",
    "    }\n",
    "   \n",
    "        \n",
    "    // Gibt die Liste aus\n",
    "    @Override\n",
    "    public String toString() { \n",
    "        if (first == null) {\n",
    "            return \"[]\";\n",
    "        } else {\n",
    "            StringBuffer sb = new StringBuffer();\n",
    "            sb.append(\"[\");\n",
    "            for (Node current = first; current != last; current = current.next) {\n",
    "                sb.append(current.value);\n",
    "                sb.append(\",\");\n",
    "            }\n",
    "            sb.append(last.value);\n",
    "            sb.append(\"]\");\n",
    "            return sb.toString();\n",
    "        }\n",
    "    }\n",
    "        \n",
    "}"
   ]
  },
  {
   "cell_type": "code",
   "execution_count": null,
   "id": "92a6db57",
   "metadata": {},
   "outputs": [],
   "source": [
    "LinkedList l = new LinkedList();\n",
    "l.add(5.0);\n",
    "l.add(5.0);\n",
    "System.out.println(l);"
   ]
  },
  {
   "cell_type": "markdown",
   "id": "69477c35",
   "metadata": {},
   "source": [
    "### Übungen \n",
    "\n",
    "* Können Sie mit dieser Implementation in derselben Liste Elemente von unterschiedlichem Typ speichern?\n",
    "\n"
   ]
  },
  {
   "cell_type": "code",
   "execution_count": null,
   "id": "bbfda0cd",
   "metadata": {},
   "outputs": [],
   "source": []
  }
 ],
 "metadata": {
  "kernelspec": {
   "display_name": "Java",
   "language": "java",
   "name": "java"
  },
  "language_info": {
   "codemirror_mode": "java",
   "file_extension": ".jshell",
   "mimetype": "text/x-java-source",
   "name": "Java",
   "pygments_lexer": "java",
   "version": "18.0.1+10"
  }
 },
 "nbformat": 4,
 "nbformat_minor": 5
}
