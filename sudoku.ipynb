{
 "cells": [
  {
   "cell_type": "markdown",
   "id": "c34e369b",
   "metadata": {},
   "source": [
    "# Sudoku\n",
    "\n",
    "#### Marcel Lüthi, Departement Mathematik und Informatik, Universität Basel\n",
    "\n",
    "Credit: Der hier verfolgte Ansatz ist inspiriert vom Blog-post von [baeldung](https://www.baeldung.com/java-sudoku). Die Bilder stammen von der [Englischsprachigen Wikipedia](https://en.wikipedia.org/wiki/Sudoku)."
   ]
  },
  {
   "cell_type": "markdown",
   "id": "1126b2a3",
   "metadata": {},
   "source": [
    "### Das Sudoku-Spiel\n",
    "\n",
    "Ein Sudoku Spiel besteht aus einem $9 \\times 9$ Feld, welches selbst wieder in 3 kleiner Felder unterteilt ist. In einigen der Felder sind Zahlen, andere sind Leer. Das Ziel des Spiels ist es, die Felder so auszufüllen, dass jede der Zahlen 1 bis 9 genau einmal benutzt wird. \n",
    "\n",
    "![sudoku](images/sudoku-combined.png)\n"
   ]
  },
  {
   "cell_type": "markdown",
   "id": "81d263c6",
   "metadata": {},
   "source": [
    "### Aufgaben\n",
    "\n",
    "* Implementieren Sie die Methode `printBoard`, welche ein Spiel auf der Konsole ausgibt.\n",
    "* Überlegen Sie sich eine Strategie um das Problem zu lösen. Sie können annehmen, dass Sie eine Methode `isValid` zur Verfügung haben, mit der Sie nachdem Sie ein Zahl in eine Zeile eingefügt haben, überprüfen können, ob die Zeile, Spalte und dazugehörige Zelle noch immer gültig ist. \n",
    "    * Hinweis: Unterscheidet sich das Problem nachdem Sie eine weitere Zelle eingefügt haben oder bleibt es gleich? Können Sie eine rekursive Strategie entwickeln?\n",
    "* In welche kleineren Probleme können Sie die Methode isValid aufteilen?\n",
    "    * Implementieren Sie die Methoden"
   ]
  },
  {
   "cell_type": "code",
   "execution_count": 6,
   "id": "3efe8f4c",
   "metadata": {},
   "outputs": [],
   "source": [
    "class Sudoku {\n",
    "\n",
    "    // Wir repräsentieren das Spiel als Array von Arrays, welches die \n",
    "    // Zahlen 0 - 9 enthalten kann. 0 bedeutet dabei, dass das Feld noch frei ist. \n",
    "    public static int[][] createBoard() {\n",
    "        int[][] board = new int[][] {\n",
    "          {5, 3, 0, 0, 7, 0, 0, 0, 0},\n",
    "          {6, 0, 0, 1, 9, 5, 0, 0, 0},\n",
    "          {0, 9, 8, 0, 0, 0, 0, 6, 0},\n",
    "          {8, 0, 0, 0, 6, 0, 0, 0, 3},\n",
    "          {4, 0, 0, 8, 0, 3, 0, 0, 1},\n",
    "          {7, 0, 0, 0, 2, 0, 0, 0, 6},\n",
    "          {0, 6, 0, 0, 0, 0, 2, 8, 0},\n",
    "          {0, 0, 0, 4, 1, 9, 0, 0, 5},\n",
    "          {0, 0, 0, 0, 8, 0, 0, 7, 9}\n",
    "        };\n",
    "        return board;\n",
    "    }\n",
    "\n",
    "\n",
    "    // Diese Methode gibt ein Sudoku-spiel aus\n",
    "    public static void printBoard(int[][] board) {\n",
    "        // Ihre Lösung\n",
    "    }\n",
    "   \n",
    "    // Bestimmt ob die Zeile, Spalte und damit verbundene Zelle\n",
    "    // gültig sind. Gültig bedeutet hier, dass keine Zahl zweimal \n",
    "    // vorkommt. Felder dürfen aber leer sein. \n",
    "    static boolean isValid(int[][] board, int row, int col) {\n",
    "        return true; // Ihre Lösung\n",
    "    }\n",
    "    \n",
    "   \n",
    "    \n",
    "    // Löst das Spiel mit Backtracking und gibt true zurück, falls das \n",
    "    // Spiel gelöst werden konnte und false, falls es keine Lösung gibt. \n",
    "    static boolean solve(int[][] board) {\n",
    "        return true;\n",
    "    }\n",
    "\n",
    "      \n",
    "    public static void main(String[] args) {\n",
    "        int[][] board = createBoard();        \n",
    "        \n",
    "        solve(board);\n",
    "        printBoard(board);\n",
    "            \n",
    "    }\n",
    "\n",
    "    \n",
    "}\n",
    "\n",
    "Sudoku.main(new String[0]);"
   ]
  },
  {
   "cell_type": "code",
   "execution_count": null,
   "id": "eed7a95e",
   "metadata": {},
   "outputs": [],
   "source": []
  }
 ],
 "metadata": {
  "kernelspec": {
   "display_name": "Java",
   "language": "java",
   "name": "java"
  },
  "language_info": {
   "codemirror_mode": "java",
   "file_extension": ".jshell",
   "mimetype": "text/x-java-source",
   "name": "Java",
   "pygments_lexer": "java",
   "version": "18.0.1+10"
  }
 },
 "nbformat": 4,
 "nbformat_minor": 5
}
